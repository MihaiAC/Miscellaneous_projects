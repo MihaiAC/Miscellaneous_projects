{
 "cells": [
  {
   "cell_type": "code",
   "execution_count": 1,
   "metadata": {},
   "outputs": [],
   "source": [
    "from mpgm.mpgm.evaluation.generating_samples import *\n",
    "from mpgm.mpgm.models.SPGM import SPGM\n",
    "import matplotlib.pyplot as plt\n",
    "import numpy as np\n",
    "import time"
   ]
  },
  {
   "cell_type": "code",
   "execution_count": 2,
   "metadata": {},
   "outputs": [],
   "source": [
    "nr_variables = 10\n",
    "nr_samples = 150\n",
    "SPW = SampleParamsWrapper(nr_variables=nr_variables,\n",
    "                          sample_init=np.zeros((nr_variables,)),\n",
    "                          nr_samples=nr_samples,\n",
    "                          random_seed=1)"
   ]
  },
  {
   "cell_type": "code",
   "execution_count": 3,
   "metadata": {},
   "outputs": [
    {
     "name": "stdout",
     "output_type": "stream",
     "text": [
      "Generated samples: SPGM_test_samples\n"
     ]
    }
   ],
   "source": [
    "SPW.graph_generator = LatticeGraphGenerator(sparsity_level=0)\n",
    "SPW.model = SPGM(R=10, R0=5)\n",
    "SPW.sampler = SIPRVSampler(lambda_true=1, lambda_noise=0.5)\n",
    "SPW.weight_assigner = Dummy_Weight_Assigner()\n",
    "SPW.generate_samples_and_save(\"SPGM_test_samples\", \"samples.sqlite\")"
   ]
  },
  {
   "cell_type": "code",
   "execution_count": 4,
   "metadata": {},
   "outputs": [],
   "source": [
    "SPS = SampleParamsWrapper.load_samples(\"SPGM_test_samples\", \"samples.sqlite\")\n",
    "samples = SPS.samples"
   ]
  },
  {
   "cell_type": "code",
   "execution_count": 6,
   "metadata": {},
   "outputs": [
    {
     "data": {
      "image/png": "[encoded data removed]",
      "text/plain": [
       "<Figure size 432x288 with 1 Axes>"
      ]
     },
     "metadata": {
      "needs_background": "light"
     },
     "output_type": "display_data"
    }
   ],
   "source": [
    "plt.hist(samples[:, 0], bins=range(11), ec=\"k\")\n",
    "plt.xlabel('Value')\n",
    "plt.ylabel('Frequency')\n",
    "plt.savefig('histogram_SIPRV.png')"
   ]
  },
  {
   "cell_type": "code",
   "execution_count": 7,
   "metadata": {},
   "outputs": [],
   "source": [
    "def time_generate_samples(mode:str, wa:Weight_Assigner):\n",
    "    gg = LatticeGraphGenerator()\n",
    "    np.random.seed(0)\n",
    "    \n",
    "    G = gg.generate_graph(nr_variables=10)\n",
    "    wa.assign_weights(G)\n",
    "    \n",
    "    if mode == \"TPGM\":\n",
    "        model = TPGM(R=10, theta=G)\n",
    "        sampler = TPGMGibbsSampler(burn_in=50, thinning_nr=150)\n",
    "    elif mode == \"SPGM\":\n",
    "        model = SPGM(R=10, R0=5, theta=G)\n",
    "        sampler = SPGMGibbsSampler(burn_in=50, thinning_nr=150)\n",
    "    \n",
    "    start = time.time()\n",
    "    samples = sampler.generate_samples(model, np.zeros((10, )), 150)\n",
    "    end = time.time()\n",
    "    \n",
    "    print(end-start)\n",
    "    plt.hist(samples[:, 0], bins=range(11), ec=\"k\")\n",
    "    plt.xlabel('Value')\n",
    "    plt.ylabel('Frequency')\n",
    "    plt.savefig('histogram_'+mode+'.png')\n",
    "    plt.show()"
   ]
  },
  {
   "cell_type": "code",
   "execution_count": 25,
   "metadata": {},
   "outputs": [
    {
     "name": "stderr",
     "output_type": "stream",
     "text": [
      "100%|██████████| 22401/22401 [04:13<00:00, 88.36it/s] \n"
     ]
    },
    {
     "name": "stdout",
     "output_type": "stream",
     "text": [
      "253.5114550590515\n"
     ]
    },
    {
     "data": {
      "image/png": "[encoded data removed]",
      "text/plain": [
       "<Figure size 432x288 with 1 Axes>"
      ]
     },
     "metadata": {
      "needs_background": "light"
     },
     "output_type": "display_data"
    },
    {
     "name": "stderr",
     "output_type": "stream",
     "text": [
      "100%|██████████| 22401/22401 [00:16<00:00, 1321.78it/s]\n"
     ]
    },
    {
     "name": "stdout",
     "output_type": "stream",
     "text": [
      "16.94906520843506\n"
     ]
    },
    {
     "data": {
      "image/png": "[encoded data removed]",
      "text/plain": [
       "<Figure size 432x288 with 1 Axes>"
      ]
     },
     "metadata": {
      "needs_background": "light"
     },
     "output_type": "display_data"
    }
   ],
   "source": [
    "wa = Constant_Weight_Assigner(-0.4)\n",
    "time_generate_samples(\"SPGM\", wa)\n",
    "time_generate_samples(\"TPGM\", wa)"
   ]
  },
  {
   "cell_type": "code",
   "execution_count": 19,
   "metadata": {},
   "outputs": [
    {
     "name": "stderr",
     "output_type": "stream",
     "text": [
      "100%|██████████| 22401/22401 [04:14<00:00, 88.10it/s] \n"
     ]
    },
    {
     "name": "stdout",
     "output_type": "stream",
     "text": [
      "254.2788815498352\n"
     ]
    },
    {
     "data": {
      "image/png": "[encoded data removed]",
      "text/plain": [
       "<Figure size 432x288 with 1 Axes>"
      ]
     },
     "metadata": {
      "needs_background": "light"
     },
     "output_type": "display_data"
    },
    {
     "name": "stderr",
     "output_type": "stream",
     "text": [
      "100%|██████████| 22401/22401 [00:17<00:00, 1276.14it/s]\n"
     ]
    },
    {
     "name": "stdout",
     "output_type": "stream",
     "text": [
      "17.555232048034668\n"
     ]
    },
    {
     "data": {
      "image/png": "[encoded data removed]",
      "text/plain": [
       "<Figure size 432x288 with 1 Axes>"
      ]
     },
     "metadata": {
      "needs_background": "light"
     },
     "output_type": "display_data"
    }
   ],
   "source": [
    "wa = Bimodal_Gaussian_Weight_Assigner(mean_1=-0.1,\n",
    "                                     std_1=0,\n",
    "                                     mean_2=0.1,\n",
    "                                     std_2=0.02,\n",
    "                                     split=1)\n",
    "time_generate_samples(\"SPGM\", wa)\n",
    "time_generate_samples(\"TPGM\", wa)"
   ]
  },
  {
   "cell_type": "code",
   "execution_count": 8,
   "metadata": {},
   "outputs": [
    {
     "name": "stderr",
     "output_type": "stream",
     "text": [
      "100%|██████████| 22401/22401 [07:40<00:00, 48.60it/s]\n"
     ]
    },
    {
     "name": "stdout",
     "output_type": "stream",
     "text": [
      "460.9771981239319\n"
     ]
    },
    {
     "data": {
      "image/png": "[encoded data removed]",
      "text/plain": [
       "<Figure size 432x288 with 1 Axes>"
      ]
     },
     "metadata": {
      "needs_background": "light"
     },
     "output_type": "display_data"
    },
    {
     "name": "stderr",
     "output_type": "stream",
     "text": [
      "100%|██████████| 22401/22401 [00:20<00:00, 1087.62it/s]\n"
     ]
    },
    {
     "name": "stdout",
     "output_type": "stream",
     "text": [
      "20.59827947616577\n"
     ]
    },
    {
     "data": {
      "image/png": "[encoded data removed]",
      "text/plain": [
       "<Figure size 432x288 with 1 Axes>"
      ]
     },
     "metadata": {
      "needs_background": "light"
     },
     "output_type": "display_data"
    }
   ],
   "source": [
    "wa = Bimodal_Gaussian_Weight_Assigner(mean_1=-0.1,\n",
    "                                     std_1=0.02,\n",
    "                                     mean_2=0.1,\n",
    "                                     std_2=0.02,\n",
    "                                     split=1)\n",
    "time_generate_samples(\"SPGM\", wa)\n",
    "time_generate_samples(\"TPGM\", wa)"
   ]
  },
  {
   "cell_type": "code",
   "execution_count": 21,
   "metadata": {},
   "outputs": [
    {
     "name": "stderr",
     "output_type": "stream",
     "text": [
      "100%|██████████| 22401/22401 [04:02<00:00, 92.43it/s]\n"
     ]
    },
    {
     "name": "stdout",
     "output_type": "stream",
     "text": [
      "242.36787390708923\n"
     ]
    },
    {
     "data": {
      "image/png": "[encoded data removed]",
      "text/plain": [
       "<Figure size 432x288 with 1 Axes>"
      ]
     },
     "metadata": {
      "needs_background": "light"
     },
     "output_type": "display_data"
    },
    {
     "name": "stderr",
     "output_type": "stream",
     "text": [
      "100%|██████████| 22401/22401 [00:19<00:00, 1161.05it/s]\n"
     ]
    },
    {
     "name": "stdout",
     "output_type": "stream",
     "text": [
      "19.295156240463257\n"
     ]
    },
    {
     "data": {
      "image/png": "[encoded data removed]",
      "text/plain": [
       "<Figure size 432x288 with 1 Axes>"
      ]
     },
     "metadata": {
      "needs_background": "light"
     },
     "output_type": "display_data"
    }
   ],
   "source": [
    "wa = Bimodal_Gaussian_Weight_Assigner(mean_1=-0.1,\n",
    "                                     std_1=0.02,\n",
    "                                     mean_2=0.1,\n",
    "                                     std_2=0.02,\n",
    "                                     split=0)\n",
    "time_generate_samples(\"SPGM\", wa)\n",
    "time_generate_samples(\"TPGM\", wa)"
   ]
  },
  {
   "cell_type": "code",
   "execution_count": 22,
   "metadata": {},
   "outputs": [
    {
     "name": "stderr",
     "output_type": "stream",
     "text": [
      "100%|██████████| 22401/22401 [03:57<00:00, 94.51it/s] \n"
     ]
    },
    {
     "name": "stdout",
     "output_type": "stream",
     "text": [
      "237.01543879508972\n"
     ]
    },
    {
     "data": {
      "image/png": "[encoded data removed]",
      "text/plain": [
       "<Figure size 432x288 with 1 Axes>"
      ]
     },
     "metadata": {
      "needs_background": "light"
     },
     "output_type": "display_data"
    },
    {
     "name": "stderr",
     "output_type": "stream",
     "text": [
      "100%|██████████| 22401/22401 [00:18<00:00, 1213.71it/s]\n"
     ]
    },
    {
     "name": "stdout",
     "output_type": "stream",
     "text": [
      "18.458170652389526\n"
     ]
    },
    {
     "data": {
      "image/png": "[encoded data removed]",
      "text/plain": [
       "<Figure size 432x288 with 1 Axes>"
      ]
     },
     "metadata": {
      "needs_background": "light"
     },
     "output_type": "display_data"
    }
   ],
   "source": [
    "wa = Bimodal_Gaussian_Weight_Assigner(mean_1=-0.1,\n",
    "                                     std_1=0.02,\n",
    "                                     mean_2=0.1,\n",
    "                                     std_2=0.02,\n",
    "                                     split=0.2)\n",
    "time_generate_samples(\"SPGM\", wa)\n",
    "time_generate_samples(\"TPGM\", wa)"
   ]
  },
  {
   "cell_type": "code",
   "execution_count": 23,
   "metadata": {},
   "outputs": [
    {
     "name": "stderr",
     "output_type": "stream",
     "text": [
      "100%|██████████| 22401/22401 [03:49<00:00, 97.45it/s] \n"
     ]
    },
    {
     "name": "stdout",
     "output_type": "stream",
     "text": [
      "229.8833727836609\n"
     ]
    },
    {
     "data": {
      "image/png": "[encoded data removed]",
      "text/plain": [
       "<Figure size 432x288 with 1 Axes>"
      ]
     },
     "metadata": {
      "needs_background": "light"
     },
     "output_type": "display_data"
    },
    {
     "name": "stderr",
     "output_type": "stream",
     "text": [
      "100%|██████████| 22401/22401 [00:16<00:00, 1324.62it/s]\n"
     ]
    },
    {
     "name": "stdout",
     "output_type": "stream",
     "text": [
      "16.9126980304718\n"
     ]
    },
    {
     "data": {
      "image/png": "[encoded data removed]",
      "text/plain": [
       "<Figure size 432x288 with 1 Axes>"
      ]
     },
     "metadata": {
      "needs_background": "light"
     },
     "output_type": "display_data"
    }
   ],
   "source": [
    "wa = Bimodal_Gaussian_Weight_Assigner(mean_1=-0.1,\n",
    "                                     std_1=0.02,\n",
    "                                     mean_2=0.1,\n",
    "                                     std_2=0.02,\n",
    "                                     split=0.4)\n",
    "time_generate_samples(\"SPGM\", wa)\n",
    "time_generate_samples(\"TPGM\", wa)"
   ]
  },
  {
   "cell_type": "code",
   "execution_count": 24,
   "metadata": {},
   "outputs": [
    {
     "name": "stderr",
     "output_type": "stream",
     "text": [
      "100%|██████████| 22401/22401 [03:44<00:00, 99.85it/s] \n"
     ]
    },
    {
     "name": "stdout",
     "output_type": "stream",
     "text": [
      "224.3548548221588\n"
     ]
    },
    {
     "data": {
      "image/png": "[encoded data removed]",
      "text/plain": [
       "<Figure size 432x288 with 1 Axes>"
      ]
     },
     "metadata": {
      "needs_background": "light"
     },
     "output_type": "display_data"
    },
    {
     "name": "stderr",
     "output_type": "stream",
     "text": [
      "100%|██████████| 22401/22401 [00:16<00:00, 1323.89it/s]\n"
     ]
    },
    {
     "name": "stdout",
     "output_type": "stream",
     "text": [
      "16.922085762023926\n"
     ]
    },
    {
     "data": {
      "image/png": "[encoded data removed]",
      "text/plain": [
       "<Figure size 432x288 with 1 Axes>"
      ]
     },
     "metadata": {
      "needs_background": "light"
     },
     "output_type": "display_data"
    }
   ],
   "source": [
    "wa = Bimodal_Gaussian_Weight_Assigner(mean_1=-0.1,\n",
    "                                     std_1=0.02,\n",
    "                                     mean_2=0.1,\n",
    "                                     std_2=0.02,\n",
    "                                     split=0.8)\n",
    "time_generate_samples(\"SPGM\", wa)\n",
    "time_generate_samples(\"TPGM\", wa)"
   ]
  },
  {
   "cell_type": "code",
   "execution_count": null,
   "metadata": {},
   "outputs": [],
   "source": [
    "    def generate_samples(self, model:Model, init:np.ndarray, nr_samples:int) -> np.ndarray:\n",
    "        \"\"\"\n",
    "        :param model: Must be a default model; model.theta must be the adjacency matrix.\n",
    "        :param init: Only interested in its length, which must be the nr of variables.\n",
    "        :param nr_samples: Number of samples we want to generate.\n",
    "        :return: Generated samples.\n",
    "        \"\"\"\n",
    "        A = model.theta\n",
    "        n = nr_samples\n",
    "        p = A.shape[0]\n",
    "\n",
    "        print(A.shape)\n",
    "\n",
    "        B = SIPRVSampler.create_B(A)\n",
    "\n",
    "        C = self.lambda_true * A\n",
    "        upper_tri = C[np.triu_indices(p, 1)]\n",
    "        nonzero_tri = upper_tri[upper_tri != 0]\n",
    "        print(nonzero_tri)\n",
    "\n",
    "        Y_lambdas = np.append(np.repeat(self.lambda_true, p), nonzero_tri)\n",
    "        print(Y_lambdas.shape)\n",
    "\n",
    "        Y = np.zeros((len(Y_lambdas), n))\n",
    "        for ii, ylam in enumerate(Y_lambdas):\n",
    "            Y[ii, :] = np.random.poisson(ylam, (1, n))\n",
    "\n",
    "        print(B.shape)\n",
    "        print(Y.shape)\n",
    "        X = np.matmul(B, Y)  # X is p x n\n",
    "        X = np.transpose(X)  # X is now n x p\n",
    "\n",
    "        # Add noise.\n",
    "        E = np.random.poisson(self.lambda_noise, (n, p))\n",
    "        X = X + E\n",
    "        return X"
   ]
  },
  {
   "cell_type": "code",
   "execution_count": 4,
   "metadata": {},
   "outputs": [],
   "source": [
    "def create_B(adj_matrix: np.ndarray) -> np.ndarray:\n",
    "    A = adj_matrix\n",
    "    nrows = A.shape[0]\n",
    "    ncols = A.shape[1]\n",
    "    if nrows != ncols:\n",
    "        raise Exception(\"create_B: Adjacency matrix is not square.\")\n",
    "\n",
    "    B = np.identity(nrows)\n",
    "    for ii in range(nrows):\n",
    "        for jj in range(ii + 1, ncols):\n",
    "            if A[ii][jj] == 1:\n",
    "                new_col = np.zeros((nrows, 1))\n",
    "                new_col[ii] = 1\n",
    "                new_col[jj] = 1\n",
    "                B = np.hstack((B, new_col))\n",
    "\n",
    "    return B"
   ]
  },
  {
   "cell_type": "code",
   "execution_count": 5,
   "metadata": {},
   "outputs": [],
   "source": [
    "graph = np.ones((10,10))"
   ]
  },
  {
   "cell_type": "code",
   "execution_count": 6,
   "metadata": {},
   "outputs": [],
   "source": [
    "B = create_B(graph)"
   ]
  },
  {
   "cell_type": "code",
   "execution_count": 7,
   "metadata": {},
   "outputs": [
    {
     "data": {
      "text/plain": [
       "(10, 55)"
      ]
     },
     "execution_count": 7,
     "metadata": {},
     "output_type": "execute_result"
    }
   ],
   "source": [
    "B.shape"
   ]
  },
  {
   "cell_type": "code",
   "execution_count": null,
   "metadata": {},
   "outputs": [],
   "source": []
  }
 ],
 "metadata": {
  "kernelspec": {
   "display_name": "Python 3",
   "language": "python",
   "name": "python3"
  },
  "language_info": {
   "codemirror_mode": {
    "name": "ipython",
    "version": 3
   },
   "file_extension": ".py",
   "mimetype": "text/x-python",
   "name": "python",
   "nbconvert_exporter": "python",
   "pygments_lexer": "ipython3",
   "version": "3.8.5"
  }
 },
 "nbformat": 4,
 "nbformat_minor": 1
}
