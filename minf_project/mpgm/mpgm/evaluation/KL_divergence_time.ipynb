{
 "cells": [
  {
   "cell_type": "code",
   "execution_count": 6,
   "metadata": {},
   "outputs": [],
   "source": [
    "from mpgm.mpgm.evaluation.generating_samples import *\n",
    "from mpgm.mpgm.models.SPGM import SPGM\n",
    "from mpgm.mpgm.evaluation.evaluation_metrics import EvalMetrics\n",
    "import matplotlib.pyplot as plt\n",
    "import numpy as np\n",
    "import time\n",
    "from mpgm.mpgm.model_fitters.prox_grad_fitters import Prox_Grad_Fitter, Constrained_Prox_Grad_Fitter\n",
    "from mpgm.mpgm.evaluation.evaluation_metrics import *\n",
    "\n",
    "from mpgm.mpgm.sample_generation.samplers import *\n",
    "\n",
    "from mpgm.mpgm.evaluation.preprocessing import ClampMax\n",
    "\n",
    "from mpgm.mpgm.model_fitters.prox_grad_fitters import Prox_Grad_Fitter, Constrained_Prox_Grad_Fitter"
   ]
  },
  {
   "cell_type": "code",
   "execution_count": 12,
   "metadata": {},
   "outputs": [
    {
     "name": "stderr",
     "output_type": "stream",
     "text": [
      "100%|██████████| 22551/22551 [00:40<00:00, 558.01it/s]"
     ]
    },
    {
     "name": "stdout",
     "output_type": "stream",
     "text": [
      "Generated samples: SPGM_test_samples\n"
     ]
    },
    {
     "name": "stderr",
     "output_type": "stream",
     "text": [
      "\n"
     ]
    }
   ],
   "source": [
    "nr_variables = 10\n",
    "nr_samples = 150\n",
    "SPW = SampleParamsWrapper(nr_variables=nr_variables,\n",
    "                          sample_init=np.zeros((nr_variables,)),\n",
    "                          nr_samples=nr_samples,\n",
    "                          random_seed=1)\n",
    "\n",
    "SPW.graph_generator = LatticeGraphGenerator(sparsity_level=0)\n",
    "SPW.model = TPGM(R=10)\n",
    "SPW.sampler = TPGMGibbsSampler(burn_in=200, thinning_nr=150)\n",
    "SPW.weight_assigner = Constant_Weight_Assigner(ct_weight=0.1)\n",
    "SPW.generate_samples_and_save(\"SPGM_test_samples\", \"samples.sqlite\")"
   ]
  },
  {
   "cell_type": "code",
   "execution_count": 13,
   "metadata": {},
   "outputs": [],
   "source": [
    "SPS = SampleParamsWrapper.load_samples(\"SPGM_test_samples\", \"samples.sqlite\")\n",
    "samples = SPS.samples"
   ]
  },
  {
   "cell_type": "code",
   "execution_count": 14,
   "metadata": {},
   "outputs": [],
   "source": [
    "samples_file_name = \"../samples.sqlite\"\n",
    "fit_file_name = \"../fit_models.sqlite\"\n",
    "nr_variables = 10\n",
    "nr_samples = 150\n",
    "alpha = 0.5\n",
    "\n",
    "samples_id = \"SPGM_debug\"\n",
    "FPW = FitParamsWrapper(random_seed=0,\n",
    "                       samples_file_name=samples_file_name)\n",
    "FPW.model = SPGM(R=10, R0=5)\n",
    "\n",
    "FPW.fitter = Prox_Grad_Fitter(alpha=0.1,\n",
    "                              save_regularization_paths=True,\n",
    "                              init_step_size=1,\n",
    "                              early_stop_criterion='likelihood')\n",
    "\n",
    "FPW.preprocessor = ClampMax(10)\n",
    "\n",
    "theta_init = np.random.normal(0, 0.1, (nr_variables, nr_variables))\n",
    "theta_fit = FPW.fit_model_and_save(fit_id=\"SPGM_debug\",\n",
    "                                   fit_file_name=fit_file_name,\n",
    "                                   parallelize=False,\n",
    "                                   samples_file_name=samples_file_name,\n",
    "                                   samples_id=\"SPGM_debug\",\n",
    "                                   theta_init=theta_init)"
   ]
  },
  {
   "cell_type": "code",
   "execution_count": 15,
   "metadata": {},
   "outputs": [],
   "source": [
    "theta_true = SPS.theta_orig"
   ]
  },
  {
   "cell_type": "code",
   "execution_count": 18,
   "metadata": {},
   "outputs": [
    {
     "name": "stderr",
     "output_type": "stream",
     "text": [
      "/home/mcio/miniconda3/envs/mpgm/lib/python3.8/site-packages/ipykernel/ipkernel.py:287: DeprecationWarning: `should_run_async` will not call `transform_cell` automatically in the future. Please pass the result to `transformed_cell` argument and any exception that happen during thetransform in `preprocessing_exc_tuple` in IPython 7.17 and above.\n",
      "  and should_run_async(code)\n"
     ]
    }
   ],
   "source": [
    "model_P = TPGM(R=10, theta=theta_true)\n",
    "model_Q = TPGM(R=10, theta=theta_fit)\n",
    "sampler = TPGMGibbsSampler(burn_in=200, thinning_nr=150)"
   ]
  },
  {
   "cell_type": "code",
   "execution_count": 19,
   "metadata": {},
   "outputs": [
    {
     "name": "stderr",
     "output_type": "stream",
     "text": [
      "100%|██████████| 15051/15051 [00:11<00:00, 1283.69it/s]\n",
      "100%|██████████| 14851/14851 [00:12<00:00, 1161.08it/s]\n",
      "100%|██████████| 14851/14851 [00:12<00:00, 1212.45it/s]\n",
      "100%|██████████| 14851/14851 [00:11<00:00, 1301.35it/s]\n",
      "100%|██████████| 14851/14851 [00:11<00:00, 1332.35it/s]\n",
      "100%|██████████| 14851/14851 [00:11<00:00, 1298.34it/s]\n",
      "100%|██████████| 14851/14851 [00:11<00:00, 1263.48it/s]\n",
      "100%|██████████| 14851/14851 [00:14<00:00, 993.16it/s] \n",
      "100%|██████████| 14851/14851 [00:13<00:00, 1096.73it/s]"
     ]
    },
    {
     "name": "stdout",
     "output_type": "stream",
     "text": [
      "111.4834406375885\n"
     ]
    },
    {
     "name": "stderr",
     "output_type": "stream",
     "text": [
      "\n"
     ]
    }
   ],
   "source": [
    "init_time = time.time()\n",
    "kl_div_nodes, mse_nodes = EvalMetrics.node_cond_prob_KL_divergence(model_P, model_Q, sampler)\n",
    "print(time.time()-init_time)"
   ]
  }
 ],
 "metadata": {
  "kernelspec": {
   "display_name": "Python 3",
   "language": "python",
   "name": "python3"
  },
  "language_info": {
   "codemirror_mode": {
    "name": "ipython",
    "version": 3
   },
   "file_extension": ".py",
   "mimetype": "text/x-python",
   "name": "python",
   "nbconvert_exporter": "python",
   "pygments_lexer": "ipython3",
   "version": "3.8.5"
  }
 },
 "nbformat": 4,
 "nbformat_minor": 1
}