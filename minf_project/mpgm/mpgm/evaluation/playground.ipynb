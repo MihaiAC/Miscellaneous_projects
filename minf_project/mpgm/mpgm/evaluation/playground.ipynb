{
 "cells": [
  {
   "cell_type": "code",
   "execution_count": 1,
   "metadata": {
    "pycharm": {
     "name": "#%%\n"
    }
   },
   "outputs": [],
   "source": [
    "from mpgm.mpgm.evaluation.generating_samples import *\n",
    "from mpgm.mpgm.models.SPGM import SPGM\n",
    "import matplotlib.pyplot as plt"
   ]
  },
  {
   "cell_type": "code",
   "execution_count": 3,
   "metadata": {},
   "outputs": [
    {
     "name": "stderr",
     "output_type": "stream",
     "text": [
      "100%|██████████| 15051/15051 [00:19<00:00, 754.87it/s]\n"
     ]
    },
    {
     "name": "stdout",
     "output_type": "stream",
     "text": [
      "[[1. 1. 0. ... 1. 0. 0.]\n",
      " [2. 0. 1. ... 0. 1. 0.]\n",
      " [1. 1. 1. ... 0. 0. 0.]\n",
      " ...\n",
      " [1. 0. 2. ... 0. 0. 1.]\n",
      " [0. 1. 0. ... 0. 0. 1.]\n",
      " [0. 0. 0. ... 0. 1. 1.]]\n"
     ]
    },
    {
     "data": {
      "image/png": "[encoded data removed]",
      "text/plain": [
       "<Figure size 432x288 with 1 Axes>"
      ]
     },
     "metadata": {
      "needs_background": "light"
     },
     "output_type": "display_data"
    }
   ],
   "source": [
    "SGW = SampleParamsWrapper(nr_variables=10,\n",
    "                          nr_samples=150,\n",
    "                          random_seed=10,\n",
    "                          sample_init=np.zeros((10, )))\n",
    "SGW.graph_generator = LatticeGraphGenerator(sparsity_level=0)\n",
    "SGW.weight_assigner = Constant_Weight_Assigner(-0.4)\n",
    "SGW.model = TPGM(R=50)\n",
    "SGW.sampler = TPGMGibbsSampler(burn_in=150, thinning_nr=100)\n",
    "SGW.generate_samples_and_save(\"TestGibbs\", \"samples.sqlite\")\n",
    "SPS = SGW.load_samples(\"TestGibbs\", \"samples.sqlite\")\n",
    "samples = SPS.samples\n",
    "print(samples)\n",
    "plt.hist(samples[:,0])\n",
    "plt.show()"
   ]
  },
  {
   "cell_type": "code",
   "execution_count": 3,
   "metadata": {},
   "outputs": [
    {
     "name": "stderr",
     "output_type": "stream",
     "text": [
      "100%|██████████| 22401/22401 [00:17<00:00, 1264.57it/s]\n"
     ]
    },
    {
     "name": "stdout",
     "output_type": "stream",
     "text": [
      "[[0. 0. 1. ... 0. 0. 1.]\n",
      " [1. 1. 1. ... 0. 0. 1.]\n",
      " [1. 0. 3. ... 0. 1. 1.]\n",
      " ...\n",
      " [0. 0. 1. ... 2. 1. 1.]\n",
      " [1. 0. 0. ... 1. 0. 1.]\n",
      " [0. 0. 1. ... 0. 0. 0.]]\n"
     ]
    },
    {
     "data": {
      "image/png": "[encoded data removed]",
      "text/plain": [
       "<Figure size 432x288 with 1 Axes>"
      ]
     },
     "metadata": {
      "needs_background": "light"
     },
     "output_type": "display_data"
    }
   ],
   "source": [
    "SGW = SampleParamsWrapper(nr_variables=10,\n",
    "                          nr_samples=150,\n",
    "                          random_seed=0,\n",
    "                          sample_init=np.zeros((10, )))\n",
    "SGW.graph_generator = LatticeGraphGenerator(sparsity_level=0)\n",
    "SGW.weight_assigner = Constant_Weight_Assigner(-0.1)\n",
    "SGW.model = TPGM(R=10)\n",
    "SGW.sampler = TPGMGibbsSampler(burn_in=50, thinning_nr=150)\n",
    "SGW.generate_samples_and_save(\"TestGibbs\", \"samples.sqlite\")\n",
    "SPS = SGW.load_samples(\"TestGibbs\", \"samples.sqlite\")\n",
    "samples = SPS.samples\n",
    "print(samples)\n",
    "plt.hist(samples[:,0])\n",
    "plt.show()"
   ]
  },
  {
   "cell_type": "code",
   "execution_count": 4,
   "metadata": {},
   "outputs": [
    {
     "name": "stderr",
     "output_type": "stream",
     "text": [
      "100%|██████████| 22401/22401 [00:17<00:00, 1286.03it/s]\n"
     ]
    },
    {
     "name": "stdout",
     "output_type": "stream",
     "text": [
      "[[0. 0. 1. ... 0. 0. 1.]\n",
      " [1. 1. 1. ... 0. 0. 1.]\n",
      " [1. 0. 3. ... 0. 1. 1.]\n",
      " ...\n",
      " [0. 0. 1. ... 2. 1. 1.]\n",
      " [1. 0. 0. ... 1. 0. 1.]\n",
      " [0. 0. 1. ... 0. 0. 0.]]\n"
     ]
    },
    {
     "data": {
      "image/png": "[encoded data removed]",
      "text/plain": [
       "<Figure size 432x288 with 1 Axes>"
      ]
     },
     "metadata": {
      "needs_background": "light"
     },
     "output_type": "display_data"
    }
   ],
   "source": [
    "SGW.weight_assigner = Constant_Weight_Assigner(-0.1)\n",
    "SGW.generate_samples_and_save(\"TestGibbs\", \"samples.sqlite\")\n",
    "samples = SGW.SPS.samples\n",
    "print(samples)\n",
    "plt.hist(samples[:,0])\n",
    "plt.show()"
   ]
  },
  {
   "cell_type": "code",
   "execution_count": 5,
   "metadata": {},
   "outputs": [
    {
     "name": "stderr",
     "output_type": "stream",
     "text": [
      "100%|██████████| 22401/22401 [00:17<00:00, 1308.65it/s]\n"
     ]
    },
    {
     "name": "stdout",
     "output_type": "stream",
     "text": [
      "[[0. 0. 1. ... 0. 0. 1.]\n",
      " [1. 0. 1. ... 0. 0. 0.]\n",
      " [1. 0. 3. ... 0. 1. 0.]\n",
      " ...\n",
      " [1. 0. 1. ... 1. 1. 1.]\n",
      " [1. 0. 0. ... 1. 0. 1.]\n",
      " [0. 0. 1. ... 0. 0. 0.]]\n"
     ]
    },
    {
     "data": {
      "image/png": "[encoded data removed]",
      "text/plain": [
       "<Figure size 432x288 with 1 Axes>"
      ]
     },
     "metadata": {
      "needs_background": "light"
     },
     "output_type": "display_data"
    }
   ],
   "source": [
    "SGW.weight_assigner = Constant_Weight_Assigner(-0.2)\n",
    "SGW.generate_samples_and_save(\"TestGibbs\", \"samples.sqlite\")\n",
    "samples = SGW.SPS.samples\n",
    "print(samples)\n",
    "plt.hist(samples[:,0])\n",
    "plt.show()"
   ]
  },
  {
   "cell_type": "code",
   "execution_count": 6,
   "metadata": {},
   "outputs": [
    {
     "name": "stderr",
     "output_type": "stream",
     "text": [
      "100%|██████████| 22401/22401 [00:17<00:00, 1297.55it/s]\n"
     ]
    },
    {
     "name": "stdout",
     "output_type": "stream",
     "text": [
      "[[0. 0. 1. ... 0. 0. 1.]\n",
      " [1. 0. 1. ... 0. 0. 0.]\n",
      " [0. 0. 3. ... 0. 1. 0.]\n",
      " ...\n",
      " [1. 0. 1. ... 1. 1. 0.]\n",
      " [1. 0. 0. ... 1. 0. 1.]\n",
      " [0. 0. 1. ... 0. 0. 0.]]\n"
     ]
    },
    {
     "data": {
      "image/png": "[encoded data removed]",
      "text/plain": [
       "<Figure size 432x288 with 1 Axes>"
      ]
     },
     "metadata": {
      "needs_background": "light"
     },
     "output_type": "display_data"
    }
   ],
   "source": [
    "SGW.weight_assigner = Constant_Weight_Assigner(-0.4)\n",
    "SGW.generate_samples_and_save(\"TestGibbs\", \"samples.sqlite\")\n",
    "samples = SGW.SPS.samples\n",
    "print(samples)\n",
    "plt.hist(samples[:,0])\n",
    "plt.show()"
   ]
  },
  {
   "cell_type": "code",
   "execution_count": 7,
   "metadata": {
    "scrolled": true
   },
   "outputs": [
    {
     "name": "stderr",
     "output_type": "stream",
     "text": [
      "100%|██████████| 22401/22401 [00:17<00:00, 1309.96it/s]\n"
     ]
    },
    {
     "name": "stdout",
     "output_type": "stream",
     "text": [
      "[[0. 0. 1. ... 0. 0. 1.]\n",
      " [0. 1. 0. ... 0. 0. 1.]\n",
      " [1. 0. 3. ... 0. 2. 0.]\n",
      " ...\n",
      " [1. 0. 1. ... 0. 1. 0.]\n",
      " [1. 0. 0. ... 1. 0. 1.]\n",
      " [0. 0. 1. ... 0. 0. 0.]]\n"
     ]
    },
    {
     "data": {
      "image/png": "[encoded data removed]",
      "text/plain": [
       "<Figure size 432x288 with 1 Axes>"
      ]
     },
     "metadata": {
      "needs_background": "light"
     },
     "output_type": "display_data"
    }
   ],
   "source": [
    "SGW.weight_assigner = Constant_Weight_Assigner(-0.8)\n",
    "SGW.generate_samples_and_save(\"TestGibbs\", \"samples.sqlite\")\n",
    "samples = SGW.SPS.samples\n",
    "print(samples)\n",
    "plt.hist(samples[:,0])\n",
    "plt.show()"
   ]
  },
  {
   "cell_type": "code",
   "execution_count": 8,
   "metadata": {},
   "outputs": [
    {
     "name": "stderr",
     "output_type": "stream",
     "text": [
      "100%|██████████| 22401/22401 [00:16<00:00, 1330.27it/s]\n"
     ]
    },
    {
     "name": "stdout",
     "output_type": "stream",
     "text": [
      "[[0. 1. 0. ... 0. 0. 1.]\n",
      " [0. 1. 0. ... 0. 0. 0.]\n",
      " [1. 0. 3. ... 0. 2. 0.]\n",
      " ...\n",
      " [0. 1. 0. ... 2. 0. 1.]\n",
      " [1. 0. 0. ... 1. 0. 1.]\n",
      " [0. 0. 1. ... 0. 1. 0.]]\n"
     ]
    },
    {
     "data": {
      "image/png": "[encoded data removed]",
      "text/plain": [
       "<Figure size 432x288 with 1 Axes>"
      ]
     },
     "metadata": {
      "needs_background": "light"
     },
     "output_type": "display_data"
    }
   ],
   "source": [
    "SGW.weight_assigner = Constant_Weight_Assigner(-1.6)\n",
    "SGW.generate_samples_and_save(\"TestGibbs\", \"samples.sqlite\")\n",
    "samples = SGW.SPS.samples\n",
    "print(samples)\n",
    "plt.hist(samples[:,0])\n",
    "plt.show()"
   ]
  },
  {
   "cell_type": "code",
   "execution_count": 9,
   "metadata": {},
   "outputs": [
    {
     "name": "stderr",
     "output_type": "stream",
     "text": [
      "100%|██████████| 22401/22401 [00:16<00:00, 1318.90it/s]\n"
     ]
    },
    {
     "name": "stdout",
     "output_type": "stream",
     "text": [
      "[[0. 0. 1. ... 0. 0. 1.]\n",
      " [2. 0. 1. ... 0. 0. 0.]\n",
      " [1. 0. 3. ... 0. 2. 0.]\n",
      " ...\n",
      " [0. 1. 0. ... 0. 1. 0.]\n",
      " [1. 0. 0. ... 1. 0. 1.]\n",
      " [0. 0. 1. ... 0. 1. 0.]]\n"
     ]
    },
    {
     "data": {
      "image/png": "[encoded data removed]",
      "text/plain": [
       "<Figure size 432x288 with 1 Axes>"
      ]
     },
     "metadata": {
      "needs_background": "light"
     },
     "output_type": "display_data"
    }
   ],
   "source": [
    "SGW.weight_assigner = Constant_Weight_Assigner(-3.2)\n",
    "SGW.generate_samples_and_save(\"TestGibbs\", \"samples.sqlite\")\n",
    "samples = SGW.SPS.samples\n",
    "print(samples)\n",
    "plt.hist(samples[:,0])\n",
    "plt.show()"
   ]
  },
  {
   "cell_type": "code",
   "execution_count": 10,
   "metadata": {},
   "outputs": [
    {
     "name": "stderr",
     "output_type": "stream",
     "text": [
      "100%|██████████| 22401/22401 [00:17<00:00, 1314.40it/s]\n"
     ]
    },
    {
     "name": "stdout",
     "output_type": "stream",
     "text": [
      "[[0. 1. 0. ... 0. 0. 1.]\n",
      " [2. 0. 1. ... 0. 0. 0.]\n",
      " [1. 0. 3. ... 0. 2. 0.]\n",
      " ...\n",
      " [0. 1. 0. ... 0. 1. 0.]\n",
      " [1. 0. 0. ... 1. 0. 1.]\n",
      " [0. 0. 1. ... 0. 1. 0.]]\n"
     ]
    },
    {
     "data": {
      "image/png": "[encoded data removed]",
      "text/plain": [
       "<Figure size 432x288 with 1 Axes>"
      ]
     },
     "metadata": {
      "needs_background": "light"
     },
     "output_type": "display_data"
    }
   ],
   "source": [
    "SGW.weight_assigner = Constant_Weight_Assigner(-6.4)\n",
    "SGW.generate_samples_and_save(\"TestGibbs\", \"samples.sqlite\")\n",
    "samples = SGW.SPS.samples\n",
    "print(samples)\n",
    "plt.hist(samples[:,0])\n",
    "plt.show()"
   ]
  },
  {
   "cell_type": "code",
   "execution_count": 40,
   "metadata": {},
   "outputs": [
    {
     "name": "stderr",
     "output_type": "stream",
     "text": [
      "100%|██████████| 22851/22851 [00:20<00:00, 1123.01it/s]\n"
     ]
    },
    {
     "name": "stdout",
     "output_type": "stream",
     "text": [
      "[[ 0. 10. 10. ...  0.  9.  0.]\n",
      " [ 0. 10.  0. ... 10.  0.  1.]\n",
      " [10.  2. 10. ...  0.  9.  0.]\n",
      " ...\n",
      " [10. 10.  0. ...  1.  0.  3.]\n",
      " [10. 10.  0. ...  1.  3.  2.]\n",
      " [10. 10.  1. ... 10.  0.  1.]]\n"
     ]
    },
    {
     "data": {
      "image/png": "[encoded data removed]",
      "text/plain": [
       "<Figure size 432x288 with 1 Axes>"
      ]
     },
     "metadata": {
      "needs_background": "light"
     },
     "output_type": "display_data"
    }
   ],
   "source": [
    "SGW = SampleParamsWrapper(nr_variables=10,\n",
    "                          nr_samples=150,\n",
    "                          random_seed=0,\n",
    "                          sample_init=np.random.randint(0, 10, (10, )))\n",
    "SGW.graph_generator = LatticeGraphGenerator(sparsity_level=0)\n",
    "SGW.weight_assigner = Constant_Weight_Assigner(-0.1)\n",
    "SGW.model = TPGM(R=10)\n",
    "SGW.sampler = TPGMGibbsSampler(burn_in=50, thinning_nr=20)\n",
    "SGW.generate_samples_and_save(\"TestGibbs\", \"samples.sqlite\")\n",
    "SPS = SGW.load_samples(\"TestGibbs\", \"samples.sqlite\")\n",
    "samples = SPS.samples\n",
    "print(samples)\n",
    "plt.hist(samples[:,0])\n",
    "plt.show()"
   ]
  },
  {
   "cell_type": "code",
   "execution_count": 11,
   "metadata": {},
   "outputs": [
    {
     "name": "stderr",
     "output_type": "stream",
     "text": [
      "100%|██████████| 22401/22401 [00:18<00:00, 1243.06it/s]\n"
     ]
    },
    {
     "name": "stdout",
     "output_type": "stream",
     "text": [
      "[[0. 0. 1. ... 0. 0. 1.]\n",
      " [2. 1. 1. ... 0. 0. 1.]\n",
      " [1. 1. 3. ... 0. 2. 1.]\n",
      " ...\n",
      " [0. 1. 1. ... 2. 1. 1.]\n",
      " [1. 0. 0. ... 1. 0. 1.]\n",
      " [1. 0. 1. ... 0. 1. 0.]]\n"
     ]
    },
    {
     "data": {
      "image/png": "[encoded data removed]",
      "text/plain": [
       "<Figure size 432x288 with 1 Axes>"
      ]
     },
     "metadata": {
      "needs_background": "light"
     },
     "output_type": "display_data"
    }
   ],
   "source": [
    "SGW.weight_assigner = Constant_Weight_Assigner(-0.05)\n",
    "SGW.generate_samples_and_save(\"TestGibbs\", \"samples.sqlite\")\n",
    "samples = SGW.SPS.samples\n",
    "print(samples)\n",
    "plt.hist(samples[:,0])\n",
    "plt.show()"
   ]
  },
  {
   "cell_type": "code",
   "execution_count": 12,
   "metadata": {},
   "outputs": [
    {
     "name": "stderr",
     "output_type": "stream",
     "text": [
      "100%|██████████| 22401/22401 [00:18<00:00, 1236.23it/s]\n"
     ]
    },
    {
     "name": "stdout",
     "output_type": "stream",
     "text": [
      "[[0. 0. 1. ... 0. 0. 1.]\n",
      " [2. 1. 1. ... 0. 0. 1.]\n",
      " [1. 1. 3. ... 0. 2. 1.]\n",
      " ...\n",
      " [1. 1. 1. ... 2. 1. 1.]\n",
      " [1. 0. 1. ... 1. 0. 1.]\n",
      " [1. 0. 1. ... 1. 1. 0.]]\n"
     ]
    },
    {
     "data": {
      "image/png": "[encoded data removed]",
      "text/plain": [
       "<Figure size 432x288 with 1 Axes>"
      ]
     },
     "metadata": {
      "needs_background": "light"
     },
     "output_type": "display_data"
    }
   ],
   "source": [
    "SGW.weight_assigner = Constant_Weight_Assigner(-0.01)\n",
    "SGW.generate_samples_and_save(\"TestGibbs\", \"samples.sqlite\")\n",
    "samples = SGW.SPS.samples\n",
    "print(samples)\n",
    "plt.hist(samples[:,0])\n",
    "plt.show()"
   ]
  },
  {
   "cell_type": "code",
   "execution_count": 13,
   "metadata": {},
   "outputs": [
    {
     "name": "stderr",
     "output_type": "stream",
     "text": [
      "100%|██████████| 22401/22401 [00:18<00:00, 1212.66it/s]\n"
     ]
    },
    {
     "name": "stdout",
     "output_type": "stream",
     "text": [
      "[[0. 1. 2. ... 0. 0. 1.]\n",
      " [3. 1. 1. ... 0. 0. 1.]\n",
      " [2. 1. 4. ... 1. 2. 1.]\n",
      " ...\n",
      " [1. 3. 3. ... 4. 2. 1.]\n",
      " [2. 1. 1. ... 2. 0. 1.]\n",
      " [1. 1. 1. ... 1. 2. 1.]]\n"
     ]
    },
    {
     "data": {
      "image/png": "[encoded data removed]",
      "text/plain": [
       "<Figure size 432x288 with 1 Axes>"
      ]
     },
     "metadata": {
      "needs_background": "light"
     },
     "output_type": "display_data"
    }
   ],
   "source": [
    "SGW.weight_assigner = Constant_Weight_Assigner(0.1)\n",
    "SGW.generate_samples_and_save(\"TestGibbs\", \"samples.sqlite\")\n",
    "samples = SGW.SPS.samples\n",
    "print(samples)\n",
    "plt.hist(samples[:,0])\n",
    "plt.show()"
   ]
  },
  {
   "cell_type": "code",
   "execution_count": 14,
   "metadata": {},
   "outputs": [
    {
     "name": "stderr",
     "output_type": "stream",
     "text": [
      "100%|██████████| 22401/22401 [00:24<00:00, 899.72it/s]\n"
     ]
    },
    {
     "name": "stdout",
     "output_type": "stream",
     "text": [
      "[[10. 10. 10. ... 10. 10. 10.]\n",
      " [10. 10. 10. ... 10. 10. 10.]\n",
      " [10. 10. 10. ... 10. 10. 10.]\n",
      " ...\n",
      " [10. 10. 10. ... 10. 10. 10.]\n",
      " [10. 10. 10. ... 10. 10. 10.]\n",
      " [10. 10. 10. ... 10. 10. 10.]]\n"
     ]
    },
    {
     "data": {
      "image/png": "[encoded data removed]",
      "text/plain": [
       "<Figure size 432x288 with 1 Axes>"
      ]
     },
     "metadata": {
      "needs_background": "light"
     },
     "output_type": "display_data"
    }
   ],
   "source": [
    "SGW.weight_assigner = Constant_Weight_Assigner(0.2)\n",
    "SGW.generate_samples_and_save(\"TestGibbs\", \"samples.sqlite\")\n",
    "samples = SGW.SPS.samples\n",
    "print(samples)\n",
    "plt.hist(samples[:,0])\n",
    "plt.show()"
   ]
  },
  {
   "cell_type": "code",
   "execution_count": 15,
   "metadata": {},
   "outputs": [
    {
     "name": "stdout",
     "output_type": "stream",
     "text": [
      "[[8. 4. 3. ... 6. 4. 3.]\n",
      " [3. 2. 4. ... 6. 3. 2.]\n",
      " [5. 4. 4. ... 4. 3. 3.]\n",
      " ...\n",
      " [3. 3. 6. ... 3. 2. 5.]\n",
      " [1. 2. 7. ... 8. 6. 4.]\n",
      " [2. 5. 3. ... 4. 4. 3.]]\n"
     ]
    },
    {
     "data": {
      "image/png": "[encoded data removed]",
      "text/plain": [
       "<Figure size 432x288 with 1 Axes>"
      ]
     },
     "metadata": {
      "needs_background": "light"
     },
     "output_type": "display_data"
    }
   ],
   "source": [
    "SGW = SampleParamsWrapper(nr_variables=10,\n",
    "                          nr_samples=150,\n",
    "                          random_seed=0,\n",
    "                          sample_init=np.zeros((10, )))\n",
    "SGW.graph_generator = LatticeGraphGenerator(sparsity_level=0)\n",
    "SGW.weight_assigner = Dummy_Weight_Assigner()\n",
    "SGW.model = Model(None)\n",
    "SGW.sampler = SIPRVSampler(1, 0.5)\n",
    "SGW.generate_samples_and_save(\"TestSIPRV\", \"samples.sqlite\")\n",
    "SPS = SGW.load_samples(\"TestSIPRV\", \"samples.sqlite\")\n",
    "samples = SPS.samples\n",
    "print(SPS.samples)\n",
    "plt.hist(samples[:,0])\n",
    "plt.show()"
   ]
  },
  {
   "cell_type": "code",
   "execution_count": 4,
   "metadata": {},
   "outputs": [
    {
     "ename": "NameError",
     "evalue": "name 'nr_variables' is not defined",
     "output_type": "error",
     "traceback": [
      "\u001b[0;31m---------------------------------------------------------------------------\u001b[0m",
      "\u001b[0;31mNameError\u001b[0m                                 Traceback (most recent call last)",
      "\u001b[0;32m<ipython-input-4-6d919fce7ded>\u001b[0m in \u001b[0;36m<module>\u001b[0;34m\u001b[0m\n\u001b[0;32m----> 1\u001b[0;31m SGW = SampleParamsWrapper(nr_variables=nr_variables,\n\u001b[0m\u001b[1;32m      2\u001b[0m                           \u001b[0msample_init\u001b[0m\u001b[0;34m=\u001b[0m\u001b[0mnp\u001b[0m\u001b[0;34m.\u001b[0m\u001b[0mzeros\u001b[0m\u001b[0;34m(\u001b[0m\u001b[0;34m(\u001b[0m\u001b[0mnr_variables\u001b[0m\u001b[0;34m,\u001b[0m \u001b[0;34m)\u001b[0m\u001b[0;34m)\u001b[0m\u001b[0;34m,\u001b[0m\u001b[0;34m\u001b[0m\u001b[0;34m\u001b[0m\u001b[0m\n\u001b[1;32m      3\u001b[0m                           \u001b[0mnr_samples\u001b[0m\u001b[0;34m=\u001b[0m\u001b[0mnr_samples\u001b[0m\u001b[0;34m,\u001b[0m\u001b[0;34m\u001b[0m\u001b[0;34m\u001b[0m\u001b[0m\n\u001b[1;32m      4\u001b[0m                           random_seed=-1)\n\u001b[1;32m      5\u001b[0m \u001b[0;34m\u001b[0m\u001b[0m\n",
      "\u001b[0;31mNameError\u001b[0m: name 'nr_variables' is not defined"
     ]
    }
   ],
   "source": [
    "    SGW = SampleParamsWrapper(nr_variables=10,\n",
    "                              sample_init=np.zeros((10, )),\n",
    "                              nr_samples=150,\n",
    "                              random_seed=0)\n",
    "\n",
    "    SGW.graph_generator = LatticeGraphGenerator(sparsity_level=0)\n",
    "    SGW.weight_assigner = Constant_Weight_Assigner(ct_weight=-0.1)\n",
    "    SGW.model = TPGM(R=10)\n",
    "    SGW.sampler = TPGMGibbsSampler(burn_in=200, thinning_nr=150)\n",
    "    # SGW.sampler = SIPRVSampler(lambda_true=1, lambda_noise=0.5)\n",
    "\n",
    "    nr_batches = len(alphas)\n",
    "\n",
    "    FPW = FitParamsWrapper(random_seed=0,\n",
    "                           samples_file_name=samples_file_name)\n",
    "    FPW.model = TPGM(R=10)\n",
    "    FPW.fitter = Prox_Grad_Fitter(alpha=0.5, early_stop_criterion='weight')"
   ]
  }
 ],
 "metadata": {
  "kernelspec": {
   "display_name": "Python 3",
   "language": "python",
   "name": "python3"
  },
  "language_info": {
   "codemirror_mode": {
    "name": "ipython",
    "version": 3
   },
   "file_extension": ".py",
   "mimetype": "text/x-python",
   "name": "python",
   "nbconvert_exporter": "python",
   "pygments_lexer": "ipython3",
   "version": "3.8.5"
  }
 },
 "nbformat": 4,
 "nbformat_minor": 1
}
