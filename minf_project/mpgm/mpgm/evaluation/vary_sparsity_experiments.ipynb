{
 "cells": [
  {
   "cell_type": "code",
   "execution_count": 1,
   "metadata": {},
   "outputs": [],
   "source": [
    "from mpgm.mpgm.sample_generation.samplers import *\n",
    "from mpgm.mpgm.sample_generation.graph_generators import *\n",
    "from mpgm.mpgm.sample_generation.weight_assigners import *\n",
    "\n",
    "from mpgm.mpgm.evaluation.evaluation_metrics import *\n",
    "from math import ceil"
   ]
  },
  {
   "cell_type": "code",
   "execution_count": 14,
   "metadata": {},
   "outputs": [
    {
     "name": "stdout",
     "output_type": "stream",
     "text": [
      "nr_edges: 0 sparsity: 100.0\n",
      "nr_edges: 1 sparsity: 97.77777777777777\n",
      "nr_edges: 2 sparsity: 95.55555555555556\n",
      "nr_edges: 3 sparsity: 93.33333333333333\n",
      "nr_edges: 4 sparsity: 91.11111111111111\n",
      "nr_edges: 5 sparsity: 88.88888888888889\n",
      "nr_edges: 6 sparsity: 86.66666666666667\n",
      "nr_edges: 7 sparsity: 84.44444444444444\n",
      "nr_edges: 8 sparsity: 82.22222222222221\n",
      "nr_edges: 9 sparsity: 80.0\n",
      "nr_edges: 10 sparsity: 77.77777777777779\n",
      "nr_edges: 11 sparsity: 75.55555555555556\n",
      "nr_edges: 12 sparsity: 73.33333333333333\n",
      "nr_edges: 13 sparsity: 71.11111111111111\n",
      "nr_edges: 14 sparsity: 68.88888888888889\n",
      "nr_edges: 15 sparsity: 66.66666666666666\n",
      "nr_edges: 16 sparsity: 64.44444444444444\n",
      "nr_edges: 17 sparsity: 62.22222222222222\n",
      "nr_edges: 18 sparsity: 60.0\n",
      "nr_edges: 19 sparsity: 57.77777777777777\n",
      "nr_edges: 20 sparsity: 55.55555555555556\n",
      "nr_edges: 21 sparsity: 53.333333333333336\n",
      "nr_edges: 22 sparsity: 51.11111111111111\n",
      "nr_edges: 23 sparsity: 48.888888888888886\n",
      "nr_edges: 24 sparsity: 46.666666666666664\n",
      "nr_edges: 25 sparsity: 44.44444444444444\n",
      "nr_edges: 26 sparsity: 42.22222222222222\n",
      "nr_edges: 27 sparsity: 40.0\n",
      "nr_edges: 28 sparsity: 37.77777777777778\n",
      "nr_edges: 29 sparsity: 35.55555555555556\n",
      "nr_edges: 30 sparsity: 33.33333333333333\n",
      "nr_edges: 31 sparsity: 31.11111111111111\n",
      "nr_edges: 32 sparsity: 28.888888888888886\n",
      "nr_edges: 33 sparsity: 26.666666666666668\n",
      "nr_edges: 34 sparsity: 24.444444444444443\n",
      "nr_edges: 35 sparsity: 22.22222222222222\n",
      "nr_edges: 36 sparsity: 20.0\n",
      "nr_edges: 37 sparsity: 17.77777777777778\n",
      "nr_edges: 38 sparsity: 15.555555555555555\n",
      "nr_edges: 39 sparsity: 13.333333333333334\n",
      "nr_edges: 40 sparsity: 11.11111111111111\n",
      "nr_edges: 41 sparsity: 8.88888888888889\n",
      "nr_edges: 42 sparsity: 6.666666666666667\n",
      "nr_edges: 43 sparsity: 4.444444444444445\n",
      "nr_edges: 44 sparsity: 2.2222222222222223\n",
      "nr_edges: 45 sparsity: 0.0\n"
     ]
    }
   ],
   "source": [
    "for nr_edges in range(46):\n",
    "    gg = RandomNmGraphGenerator(nr_edges)\n",
    "    G = gg.generate_graph(10)\n",
    "    print(\"nr_edges: \" + str(nr_edges) + \" sparsity: \" + \n",
    "          str(EvalMetrics.calculate_percentage_sparsity(G) * 100))"
   ]
  },
  {
   "cell_type": "code",
   "execution_count": 23,
   "metadata": {},
   "outputs": [
    {
     "name": "stdout",
     "output_type": "stream",
     "text": [
      "sparsity_level: 0 sparsity: 97.14566929133859\n",
      "sparsity_level: 1 sparsity: 97.29330708661418\n",
      "sparsity_level: 2 sparsity: 97.66240157480314\n",
      "sparsity_level: 3 sparsity: 98.4375\n"
     ]
    }
   ],
   "source": [
    "divisors = LatticeGraphGenerator._calculate_divisors(128)\n",
    "for sparsity_level in range(ceil(len(divisors)/2)):\n",
    "    gg = LatticeGraphGenerator(sparsity_level)\n",
    "    G = gg.generate_graph(128)\n",
    "    print(\"sparsity_level: \" + str(sparsity_level) + \" sparsity: \" + \n",
    "          str(EvalMetrics.calculate_percentage_sparsity(G) * 100))"
   ]
  },
  {
   "cell_type": "code",
   "execution_count": 17,
   "metadata": {},
   "outputs": [
    {
     "data": {
      "text/plain": [
       "3"
      ]
     },
     "execution_count": 17,
     "metadata": {},
     "output_type": "execute_result"
    }
   ],
   "source": [
    "ceil(2.3)"
   ]
  },
  {
   "cell_type": "code",
   "execution_count": 19,
   "metadata": {},
   "outputs": [
    {
     "data": {
      "text/plain": [
       "3"
      ]
     },
     "execution_count": 19,
     "metadata": {},
     "output_type": "execute_result"
    }
   ],
   "source": [
    "ceil(5/2)"
   ]
  },
  {
   "cell_type": "code",
   "execution_count": 2,
   "metadata": {},
   "outputs": [],
   "source": [
    "import numpy as np"
   ]
  },
  {
   "cell_type": "code",
   "execution_count": 3,
   "metadata": {},
   "outputs": [
    {
     "name": "stdout",
     "output_type": "stream",
     "text": [
      "(10,)\n"
     ]
    }
   ],
   "source": [
    "A = np.zeros((10, 10))\n",
    "b = A[0, :]\n",
    "print(b.shape)"
   ]
  },
  {
   "cell_type": "code",
   "execution_count": null,
   "metadata": {},
   "outputs": [],
   "source": []
  }
 ],
 "metadata": {
  "kernelspec": {
   "display_name": "Python 3",
   "language": "python",
   "name": "python3"
  },
  "language_info": {
   "codemirror_mode": {
    "name": "ipython",
    "version": 3
   },
   "file_extension": ".py",
   "mimetype": "text/x-python",
   "name": "python",
   "nbconvert_exporter": "python",
   "pygments_lexer": "ipython3",
   "version": "3.8.5"
  }
 },
 "nbformat": 4,
 "nbformat_minor": 1
}
